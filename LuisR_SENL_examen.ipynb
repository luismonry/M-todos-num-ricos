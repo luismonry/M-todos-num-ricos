{
  "nbformat": 4,
  "nbformat_minor": 0,
  "metadata": {
    "colab": {
      "provenance": [],
      "collapsed_sections": [],
      "include_colab_link": true
    },
    "kernelspec": {
      "name": "python3",
      "display_name": "Python 3"
    },
    "language_info": {
      "name": "python"
    }
  },
  "cells": [
    {
      "cell_type": "markdown",
      "metadata": {
        "id": "view-in-github",
        "colab_type": "text"
      },
      "source": [
        "<a href=\"https://colab.research.google.com/github/luismonry/M-todos-num-ricos/blob/main/LuisR_SENL_examen.ipynb\" target=\"_parent\"><img src=\"https://colab.research.google.com/assets/colab-badge.svg\" alt=\"Open In Colab\"/></a>"
      ]
    },
    {
      "cell_type": "markdown",
      "source": [
        "Según el modelo de Wilson las expresiones\n",
        "de los coeficientes de actividad a dilución infinita $\\gamma_i^{\\infty}$ de una mezcla\n",
        "binaria están dadas por las expresiones:\n",
        "\n",
        "$$\n",
        "ln(\\gamma_1^{\\infty})=1-ln(\\Lambda_{12})-\\Lambda_{21}\\\\\n",
        "ln(\\gamma_2^{\\infty})=1-ln(\\Lambda_{21})-\\Lambda_{12}\n",
        "$$\n",
        "\n",
        "donde $\\Lambda_{12}$ y $\\Lambda_{21}$ son los parámetros binarios de la mezcla. Se desea saber con el\n",
        "modelo de Wilson el valor de los parámetros binarios en el caso de una mezcla binaria ideal en la que los coeficientes de actividad\n",
        "a dilución infinita son  \n",
        "$\\gamma_1^{\\infty} = 7.2$  $\\gamma_2^{\\infty} = 2.74$\n",
        "\n",
        "Tip: Los resultados obtenidos son menores a 1"
      ],
      "metadata": {
        "id": "azT15oxWSvrf"
      }
    },
    {
      "cell_type": "markdown",
      "source": [
        "Se despeja $Λ_{12}$ y $Λ_{21}$ de la i-ésima ecuación \n",
        "$$\n",
        "\\Lambda_{12}=[e^{1+Λ_{21}}]^{-1}\\\\\n",
        "\\Lambda_{21}=[e^{1+\\Lambda_{12}}]^{-1}\n",
        "$$"
      ],
      "metadata": {
        "id": "OO6l1ZfR1fgv"
      }
    },
    {
      "cell_type": "code",
      "execution_count": 1,
      "metadata": {
        "id": "NxQTwzH_J1l1"
      },
      "outputs": [],
      "source": [
        "import numpy as np"
      ]
    },
    {
      "cell_type": "code",
      "source": [
        "def pfm(g,x,imax=100,tol=1e-8):\n",
        "  cumple=False\n",
        "  k=0\n",
        "  while (not cumple and k<imax):\n",
        "    x0=x.copy()\n",
        "    x=g(x0)\n",
        "    \n",
        "    norma=np.linalg.norm(x-x0)\n",
        "    print(x,norma)\n",
        "    cumple=norma<tol\n",
        "    k+=1\n",
        "  if k<imax:\n",
        "    return x\n",
        "  else:\n",
        "    print('No converge')"
      ],
      "metadata": {
        "id": "NMMRiJ4XKGv4"
      },
      "execution_count": 2,
      "outputs": []
    },
    {
      "cell_type": "code",
      "source": [
        "i1=np.log(7.2)\n",
        "i2=np.log(2.74)\n",
        "i11=i1-1\n",
        "i21=i2-1\n",
        "i111=np.exp(i11)\n",
        "i211=np.exp(i21)\n",
        "print(i1,i2,i11,i21,i111,i211)"
      ],
      "metadata": {
        "colab": {
          "base_uri": "https://localhost:8080/"
        },
        "id": "hauBEroUIybd",
        "outputId": "d8ddeace-4ae3-44e5-c65f-ef29e2f54807"
      },
      "execution_count": 105,
      "outputs": [
        {
          "output_type": "stream",
          "name": "stdout",
          "text": [
            "1.9740810260220096 1.007957920399979 0.9740810260220096 0.00795792039997889 2.6487319764343846 1.007989668809752\n"
          ]
        }
      ]
    },
    {
      "cell_type": "code",
      "source": [
        "def g(x):\n",
        "  x1,x2=x\n",
        "  g1=1/np.exp(i11+x2)\n",
        "  g2=1/np.exp(i21+(x1))\n",
        "  return np.array([g1,g2])"
      ],
      "metadata": {
        "id": "i9PX-o46KPA-"
      },
      "execution_count": 122,
      "outputs": []
    },
    {
      "cell_type": "code",
      "source": [
        "x=np.array([0,0])\n",
        "\n",
        "sol=pfm(g,x,imax=200,tol=1e-10)\n",
        "sol"
      ],
      "metadata": {
        "colab": {
          "base_uri": "https://localhost:8080/"
        },
        "id": "LHrpOD-oMAWh",
        "outputId": "bb9728a0-b101-49f8-ffa2-bb3d8de60afb"
      },
      "execution_count": 116,
      "outputs": [
        {
          "output_type": "stream",
          "name": "stdout",
          "text": [
            "[0.37753914 0.99207366] 1.0614829020224834\n",
            "[0.13999414 0.68011249] 0.39210635809926453\n",
            "[0.19124623 0.86247246] 0.18942526952455024\n",
            "[0.15936574 0.8193826 ] 0.05360132157129048\n",
            "[0.16638288 0.84592578] 0.027455065106862492\n",
            "[0.16202465 0.84001057] 0.00734737106934588\n",
            "[0.1629859  0.84367952] 0.0037927835734063832\n",
            "[0.16238901 0.84286893] 0.0010066512794470385\n",
            "[0.16252069 0.84337218] 0.000520195433024232\n",
            "[0.16243892 0.84326113] 0.0001379082755482341\n",
            "[0.16245696 0.84333008] 7.127561852937507e-05\n",
            "[0.16244576 0.84331487] 1.8892810472535308e-05\n",
            "[0.16244823 0.84332431] 9.764632205516967e-06\n",
            "[0.1624467  0.84332223] 2.5882255201548134e-06\n",
            "[0.16244704 0.84332352] 1.3377119993356202e-06\n",
            "[0.16244683 0.84332324] 3.545745558608078e-07\n",
            "[0.16244687 0.84332341] 1.8326023425575923e-07\n",
            "[0.16244684 0.84332338] 4.857502189666731e-08\n",
            "[0.16244685 0.8433234 ] 2.5105778785069187e-08\n",
            "[0.16244685 0.84332339] 6.654546204317341e-09\n",
            "[0.16244685 0.8433234 ] 3.4393719491893317e-09\n",
            "[0.16244685 0.8433234 ] 9.116411421728843e-10\n",
            "[0.16244685 0.8433234 ] 4.711776045260546e-10\n",
            "[0.16244685 0.8433234 ] 1.2489053756270904e-10\n",
            "[0.16244685 0.8433234 ] 6.454918471430587e-11\n"
          ]
        },
        {
          "output_type": "execute_result",
          "data": {
            "text/plain": [
              "array([0.16244685, 0.8433234 ])"
            ]
          },
          "metadata": {},
          "execution_count": 116
        }
      ]
    },
    {
      "cell_type": "code",
      "source": [
        "x1=0.16244685\n",
        "x2=0.8433234"
      ],
      "metadata": {
        "id": "MnUGn78lAKZf"
      },
      "execution_count": 119,
      "outputs": []
    },
    {
      "cell_type": "code",
      "source": [
        "1-np.log(x1)-x2"
      ],
      "metadata": {
        "colab": {
          "base_uri": "https://localhost:8080/"
        },
        "id": "6HBFlDXeAPT0",
        "outputId": "7762760b-4eae-4cf1-b011-4acceef3c644"
      },
      "execution_count": 127,
      "outputs": [
        {
          "output_type": "execute_result",
          "data": {
            "text/plain": [
              "1.9740810076367445"
            ]
          },
          "metadata": {},
          "execution_count": 127
        }
      ]
    },
    {
      "cell_type": "code",
      "source": [
        "1-np.log(x2)-x1"
      ],
      "metadata": {
        "colab": {
          "base_uri": "https://localhost:8080/"
        },
        "id": "SZrjG5W-L2bh",
        "outputId": "4b7639af-3331-4c86-ce21-97634f5004c1"
      },
      "execution_count": 129,
      "outputs": [
        {
          "output_type": "execute_result",
          "data": {
            "text/plain": [
              "1.0079579146541762"
            ]
          },
          "metadata": {},
          "execution_count": 129
        }
      ]
    },
    {
      "cell_type": "markdown",
      "source": [
        " Los valores correspondientes a $Λ_{12}$ y $Λ_{21}$ aproximadamente son 0.162 y 0.843 respectivamente"
      ],
      "metadata": {
        "id": "ENI3UgKTUFVf"
      }
    }
  ]
}