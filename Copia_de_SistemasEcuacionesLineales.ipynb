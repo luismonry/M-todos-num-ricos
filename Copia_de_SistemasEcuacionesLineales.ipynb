{
  "nbformat": 4,
  "nbformat_minor": 0,
  "metadata": {
    "colab": {
      "provenance": [],
      "collapsed_sections": []
    },
    "kernelspec": {
      "name": "python3",
      "display_name": "Python 3"
    }
  },
  "cells": [
    {
      "cell_type": "markdown",
      "metadata": {
        "id": "0EwHszXftyY9"
      },
      "source": [
        "#Sistemas de ecuaciones lineales"
      ]
    },
    {
      "cell_type": "markdown",
      "metadata": {
        "id": "mA_ssoRGnIsn"
      },
      "source": [
        "##Métodos Directos"
      ]
    },
    {
      "cell_type": "markdown",
      "metadata": {
        "id": "H-vNCZo7uB16"
      },
      "source": [
        "En la figura anterior se muestran cinco reactores interconectados, se necesitan cinco ecuaciones\n",
        "de balance de masa (flujo x concentración) para representar el sistema.\n",
        "Sistema de ecuaciones del balance de masa\n",
        "$$\n",
        "\\begin{array}{ccccccc}\n",
        "6C_1&+&0&-&C_3&+&0&+&0&=&50\\\\\n",
        "3C_1&+&3C_2&+&0&+&0&+&0&=&0\\\\\n",
        "0&-&C_2&+&9C_3&+&0&+&0&=&160\\\\\n",
        "0&+&C_2&+&8C_3&-&11C_4&+&2C_5&=&0\\\\\n",
        "3C_1&+&C_2&+&0&+&0&-&4C_5&=&0\\\\\n",
        "\\end{array}\n",
        "$$"
      ]
    },
    {
      "cell_type": "code",
      "metadata": {
        "id": "9ftPQjewrN3m"
      },
      "source": [
        "import numpy as np\n",
        "import scipy as sp"
      ],
      "execution_count": 1,
      "outputs": []
    },
    {
      "cell_type": "code",
      "metadata": {
        "id": "L7gX-ZbzuzG-"
      },
      "source": [
        "#se crea la matriz de coeficientes del sistema a resolver\n",
        "A=np.array([[6,0,-1,0,0],\n",
        "            [3,-3,0,0,0],\n",
        "            [0,-1,9,0,0],\n",
        "            [0,1,8,-11,2],\n",
        "            [3,1,0,0,-4]\n",
        "            ])\n",
        "#se crea el vector de los terminos independientes\n",
        "b=np.array([[50,0,160,0,0]])"
      ],
      "execution_count": 2,
      "outputs": []
    },
    {
      "cell_type": "code",
      "metadata": {
        "id": "BPzTtOgQabdQ",
        "outputId": "adfd45f2-f904-4fbc-b4fc-d1b1b2fc836a",
        "colab": {
          "base_uri": "https://localhost:8080/"
        }
      },
      "source": [
        "A"
      ],
      "execution_count": 3,
      "outputs": [
        {
          "output_type": "execute_result",
          "data": {
            "text/plain": [
              "array([[  6,   0,  -1,   0,   0],\n",
              "       [  3,  -3,   0,   0,   0],\n",
              "       [  0,  -1,   9,   0,   0],\n",
              "       [  0,   1,   8, -11,   2],\n",
              "       [  3,   1,   0,   0,  -4]])"
            ]
          },
          "metadata": {},
          "execution_count": 3
        }
      ]
    },
    {
      "cell_type": "code",
      "metadata": {
        "id": "2Vma6bL2voK5"
      },
      "source": [
        "Ab=np.concatenate((A,b.T),axis=1) #se crea la matriz extendida concatenando el vector b como una columna (axis=1)\n",
        "n=np.size(A,axis=1) #regresa el numero de columnas de A, es decir, el numero de incognitas"
      ],
      "execution_count": 4,
      "outputs": []
    },
    {
      "cell_type": "code",
      "metadata": {
        "id": "SFcoyAIda3m5",
        "outputId": "6998c7cd-dd1b-4489-a161-b24a129c6269",
        "colab": {
          "base_uri": "https://localhost:8080/"
        }
      },
      "source": [
        "Ab"
      ],
      "execution_count": 5,
      "outputs": [
        {
          "output_type": "execute_result",
          "data": {
            "text/plain": [
              "array([[  6,   0,  -1,   0,   0,  50],\n",
              "       [  3,  -3,   0,   0,   0,   0],\n",
              "       [  0,  -1,   9,   0,   0, 160],\n",
              "       [  0,   1,   8, -11,   2,   0],\n",
              "       [  3,   1,   0,   0,  -4,   0]])"
            ]
          },
          "metadata": {},
          "execution_count": 5
        }
      ]
    },
    {
      "cell_type": "markdown",
      "metadata": {
        "id": "744pa6CuxYvB"
      },
      "source": [
        "Validar si tiene solucion unica por el teorema de **Rouche-Frobenius**"
      ]
    },
    {
      "cell_type": "code",
      "metadata": {
        "id": "JQYXkPBkbJ8e",
        "outputId": "499158ec-2aa1-4eb8-9a44-2b1e81001348",
        "colab": {
          "base_uri": "https://localhost:8080/"
        }
      },
      "source": [
        "np.linalg.matrix_rank(Ab)"
      ],
      "execution_count": 6,
      "outputs": [
        {
          "output_type": "execute_result",
          "data": {
            "text/plain": [
              "5"
            ]
          },
          "metadata": {},
          "execution_count": 6
        }
      ]
    },
    {
      "cell_type": "code",
      "metadata": {
        "colab": {
          "base_uri": "https://localhost:8080/"
        },
        "id": "44vbAfUAxX10",
        "outputId": "494ad2f0-2599-40cb-bef0-512b60e82cb9"
      },
      "source": [
        "solucion_unica = np.linalg.matrix_rank(A)==np.linalg.matrix_rank(Ab)==n\n",
        "solucion_unica"
      ],
      "execution_count": 7,
      "outputs": [
        {
          "output_type": "execute_result",
          "data": {
            "text/plain": [
              "True"
            ]
          },
          "metadata": {},
          "execution_count": 7
        }
      ]
    },
    {
      "cell_type": "markdown",
      "metadata": {
        "id": "Ck4IpeR6zwKm"
      },
      "source": [
        "Aplicando el metodo de **inversa-multiplicacion**"
      ]
    },
    {
      "cell_type": "code",
      "metadata": {
        "id": "NymFHM90wBNz"
      },
      "source": [
        "import sympy as sy"
      ],
      "execution_count": 8,
      "outputs": []
    },
    {
      "cell_type": "code",
      "metadata": {
        "colab": {
          "base_uri": "https://localhost:8080/"
        },
        "id": "M9Z5wB4qzJf-",
        "outputId": "67fa1b2e-c858-4893-db74-33a34f7e1b79"
      },
      "source": [
        "#se obtiene la inversa de la matriz de coeficientes A\n",
        "Ainv=np.linalg.inv(A)\n",
        "Ainv"
      ],
      "execution_count": 9,
      "outputs": [
        {
          "output_type": "execute_result",
          "data": {
            "text/plain": [
              "array([[ 0.16981132, -0.00628931,  0.01886792,  0.        ,  0.        ],\n",
              "       [ 0.16981132, -0.33962264,  0.01886792, -0.        , -0.        ],\n",
              "       [ 0.01886792, -0.03773585,  0.11320755,  0.        ,  0.        ],\n",
              "       [ 0.06003431, -0.07461407,  0.08747856, -0.09090909, -0.04545455],\n",
              "       [ 0.16981132, -0.08962264,  0.01886792, -0.        , -0.25      ]])"
            ]
          },
          "metadata": {},
          "execution_count": 9
        }
      ]
    },
    {
      "cell_type": "code",
      "metadata": {
        "colab": {
          "base_uri": "https://localhost:8080/"
        },
        "id": "l2hsJItu0IBX",
        "outputId": "87e06472-63cb-4cd8-bb14-3091099a7529"
      },
      "source": [
        "x=Ainv.dot(b.T) #se multiplica la inversa de A por el vector b\n",
        "x"
      ],
      "execution_count": 10,
      "outputs": [
        {
          "output_type": "execute_result",
          "data": {
            "text/plain": [
              "array([[11.50943396],\n",
              "       [11.50943396],\n",
              "       [19.05660377],\n",
              "       [16.99828473],\n",
              "       [11.50943396]])"
            ]
          },
          "metadata": {},
          "execution_count": 10
        }
      ]
    },
    {
      "cell_type": "markdown",
      "metadata": {
        "id": "WYossKoJzaJZ"
      },
      "source": [
        "por lo tanto el conjunto solucion es\n",
        "\n",
        "* $C_1=11.51$\n",
        "* $C_2=11.51$\n",
        "* $C_3=19.06$\n",
        "* $C_4=17$\n",
        "* $C_5=11.51$"
      ]
    },
    {
      "cell_type": "markdown",
      "metadata": {
        "id": "ZsosAB9z5uJP"
      },
      "source": [
        "Balancear la siguiente ecuación química\n",
        "\n",
        "$$\n",
        "x_1H_2S + x_2Na_2Cr_2O_7 + x_3H_2SO_4 \\rightarrow x_4Cr_2(SO_4)_3 + x_5NaHSO4 + x_6S + x_7 H_2O\n",
        "$$\n",
        "\n",
        "Balance por elemento\n",
        "\n",
        "* $S: x_1+x_3 = 3x_4+x_5+x_6 \\Rightarrow x_1+x_3-3x_4-x_5-x_6 = 0$\n",
        "* $Na: 2x_2 = x_5 \\Rightarrow 2x_2 -x_5 = 0$\n",
        "* $Cr: 2x_2 = 2x_4 \\Rightarrow 2x_2–2x_4 = 0$\n",
        "* $H: 2x_1+2x_3 = x_5+2x_7 \\Rightarrow 2x_1+2x_3-x_5-2x_7 = 0$\n",
        "* $O: 7x_2+4x_3 = 12x_4 +4x_5+x_7 \\Rightarrow 7x_2+4x_3-12x_4-4x_5-x_7 = 0$\n",
        "\n",
        "El sistema de ecuaciones lineales es\n",
        "\n",
        "$$\n",
        "\\begin{pmatrix}\n",
        "1& 0& 1& -3& -1& -1& 0\\\\\n",
        "0& 2& 0& 0& -1& 0& 0 \\\\\n",
        "0& 2& 0& -2& 0& 0& 0 \\\\\n",
        "2& 0& 2& 0& -1& 0& -2 \\\\\n",
        "0& 7& 4& -12& -4& 0& -1  \\\\\n",
        "\\end{pmatrix}\n",
        "$$"
      ]
    },
    {
      "cell_type": "code",
      "metadata": {
        "id": "tISmJkAF5SjW"
      },
      "source": [
        "import numpy as np\n",
        "G=np.array([[1 , 0, 1, -3,-1, -1, 0],\n",
        "            [0 , 2, 0, 0,-1, 0, 0],\n",
        "            [0 , 2, 0, -2,0, 0, 0],\n",
        "            [2 , 0, 2, 0,-1, 0, -2],\n",
        "            [0, 7, 4, -12,-4, 0, -1]])\n",
        "\n",
        "m=np.array([[0 ,0 ,0 ,0 ,0 ]])"
      ],
      "execution_count": 27,
      "outputs": []
    },
    {
      "cell_type": "code",
      "metadata": {
        "id": "p2WZzTUW6_MU"
      },
      "source": [
        "Gm=np.concatenate((G,m.T),axis=1)\n",
        "n=np.size(G,axis=1)"
      ],
      "execution_count": 5,
      "outputs": []
    },
    {
      "cell_type": "code",
      "metadata": {
        "id": "WCANam0teQP3",
        "outputId": "1fb276d1-4ab7-4f1b-ba2f-10736cd97eeb",
        "colab": {
          "base_uri": "https://localhost:8080/"
        }
      },
      "source": [
        "Gm"
      ],
      "execution_count": 6,
      "outputs": [
        {
          "output_type": "execute_result",
          "data": {
            "text/plain": [
              "array([[  1,   0,   1,  -3,  -1,  -1,   0,   0],\n",
              "       [  0,   2,   0,   0,  -1,   0,   0,   0],\n",
              "       [  0,   2,   0,  -2,   0,   0,   0,   0],\n",
              "       [  2,   0,   2,   0,  -1,   0,  -2,   0],\n",
              "       [  0,   7,   4, -12,  -4,   0,  -1,   0]])"
            ]
          },
          "metadata": {},
          "execution_count": 6
        }
      ]
    },
    {
      "cell_type": "code",
      "metadata": {
        "colab": {
          "base_uri": "https://localhost:8080/"
        },
        "id": "U5jYgn_a7ORm",
        "outputId": "c4f84f95-ed06-4bb5-8c1a-6ca311033e78"
      },
      "source": [
        "solucion_unica = np.linalg.matrix_rank(G)==np.linalg.matrix_rank(Gm)==n\n",
        "solucion_unica"
      ],
      "execution_count": 7,
      "outputs": [
        {
          "output_type": "execute_result",
          "data": {
            "text/plain": [
              "False"
            ]
          },
          "metadata": {},
          "execution_count": 7
        }
      ]
    },
    {
      "cell_type": "code",
      "metadata": {
        "colab": {
          "base_uri": "https://localhost:8080/"
        },
        "id": "voAoZSaD7gWd",
        "outputId": "66f953f0-4f21-44de-8ef6-c5723a8681f8"
      },
      "source": [
        "solucion_multiple = np.linalg.matrix_rank(G)==np.linalg.matrix_rank(Gm)<n\n",
        "solucion_multiple"
      ],
      "execution_count": 8,
      "outputs": [
        {
          "output_type": "execute_result",
          "data": {
            "text/plain": [
              "True"
            ]
          },
          "metadata": {},
          "execution_count": 8
        }
      ]
    },
    {
      "cell_type": "code",
      "metadata": {
        "colab": {
          "base_uri": "https://localhost:8080/",
          "height": 119
        },
        "id": "DImStTN_7vJS",
        "outputId": "403e1522-0a2f-465b-e5fd-9e063bdeeef6"
      },
      "source": [
        "import sympy as sy\n",
        "\n",
        "reduccion,_=sy.Matrix(Gm).rref()\n",
        "reduccion"
      ],
      "execution_count": 9,
      "outputs": [
        {
          "output_type": "execute_result",
          "data": {
            "text/plain": [
              "Matrix([\n",
              "[1, 0, 0, 0, 0, -9/16,  -3/16, 0],\n",
              "[0, 1, 0, 0, 0,   1/4,   -1/4, 0],\n",
              "[0, 0, 1, 0, 0, 13/16, -17/16, 0],\n",
              "[0, 0, 0, 1, 0,   1/4,   -1/4, 0],\n",
              "[0, 0, 0, 0, 1,   1/2,   -1/2, 0]])"
            ],
            "text/latex": "$\\displaystyle \\left[\\begin{matrix}1 & 0 & 0 & 0 & 0 & - \\frac{9}{16} & - \\frac{3}{16} & 0\\\\0 & 1 & 0 & 0 & 0 & \\frac{1}{4} & - \\frac{1}{4} & 0\\\\0 & 0 & 1 & 0 & 0 & \\frac{13}{16} & - \\frac{17}{16} & 0\\\\0 & 0 & 0 & 1 & 0 & \\frac{1}{4} & - \\frac{1}{4} & 0\\\\0 & 0 & 0 & 0 & 1 & \\frac{1}{2} & - \\frac{1}{2} & 0\\end{matrix}\\right]$"
          },
          "metadata": {},
          "execution_count": 9
        }
      ]
    },
    {
      "cell_type": "markdown",
      "metadata": {
        "id": "9iAt0B3884J4"
      },
      "source": [
        "Por lo tanto el sistema tiene multiples soluciones y guarda las siguientes proporciones\n",
        "\n",
        "* $x_1=9/16x_6+3/16x_7$\n",
        "* $x_2=-1/4x_6+1/4x_7$\n",
        "* $x_3=-13/16x_6+17/16x_7$\n",
        "* $x_4=-1/4x_6+1/4x_7$\n",
        "* $x_5=-1/2x_6+1/2x_7$\n",
        "\n",
        "el conjunto solucion queda expresado como\n",
        "\n",
        "$$\n",
        "(9/16x_6+3/16x_7,-1/4x_6+1/4x_7,-13/16x_6+17/16x_7,-1/4x_6+1/4x_7,-1/2x_6+1/2x_7)\n",
        "$$\n",
        "\n",
        "para resolver el problema del balanceo de la reaccion quimica se debe buscar un valor de $x_7$ de tal manera que los valores del resto de las incognitas sea un entero.\n",
        "\n",
        "por ejemplo $x_7=42$, $x_6=34$\n",
        "\n",
        "\n"
      ]
    },
    {
      "cell_type": "code",
      "metadata": {
        "colab": {
          "base_uri": "https://localhost:8080/"
        },
        "id": "_7t9Xcts8B4H",
        "outputId": "87439f3a-082e-4e5b-da01-d25bafef1215"
      },
      "source": [
        "x6=34\n",
        "x7=42\n",
        "x1=-x6*reduccion[0,-3]-x7*reduccion[0,-2]\n",
        "x2=-x6*reduccion[1,-3]-x7*reduccion[1,-2]\n",
        "x3=-x6*reduccion[2,-3]-x7*reduccion[2,-2]\n",
        "x4=-x6*reduccion[3,-3]-x7*reduccion[3,-2]\n",
        "x5=-x6*reduccion[4,-3]-x7*reduccion[4,-2]\n",
        "print(x1,x2,x3,x4,x5,x6,x7)"
      ],
      "execution_count": 46,
      "outputs": [
        {
          "output_type": "stream",
          "name": "stdout",
          "text": [
            "27 2 17 2 4 34 42\n"
          ]
        }
      ]
    },
    {
      "cell_type": "markdown",
      "metadata": {
        "id": "1zrDaTzo_KZr"
      },
      "source": [
        "Por lo tanto la reaccion balanceada es\n",
        "\n",
        "$$\n",
        "27H_2S + 2Na_2Cr_2O_7 + 17H_2SO_4 \\rightarrow 2Cr_2(SO_4)_3 + 4NaHSO4 + 34S + 42H_2O\n",
        "$$"
      ]
    }
  ]
}