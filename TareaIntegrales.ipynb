{
  "nbformat": 4,
  "nbformat_minor": 0,
  "metadata": {
    "colab": {
      "provenance": [],
      "include_colab_link": true
    },
    "kernelspec": {
      "name": "python3",
      "display_name": "Python 3"
    }
  },
  "cells": [
    {
      "cell_type": "markdown",
      "metadata": {
        "id": "view-in-github",
        "colab_type": "text"
      },
      "source": [
        "<a href=\"https://colab.research.google.com/github/luismonry/M-todos-num-ricos/blob/main/TareaIntegrales.ipynb\" target=\"_parent\"><img src=\"https://colab.research.google.com/assets/colab-badge.svg\" alt=\"Open In Colab\"/></a>"
      ]
    },
    {
      "cell_type": "markdown",
      "source": [],
      "metadata": {
        "id": "euIaXNzZ5YDH"
      }
    },
    {
      "cell_type": "markdown",
      "source": [
        "Un cilindro cerrado de radio R y longitud L está lleno a la mitad con aceite de peso w, el\n",
        "cilindro está sobre su costado AB como se muestra en la figura\n",
        "La fuerza F que ejerce el aceite sobre los lados está dada por\n",
        "$$f=∫_0^R2w\\sqrt{R^2-x^2}xdx$$\n",
        "Calcule el valor de F para R=2 y w=90 usando los siguientes métodos"
      ],
      "metadata": {
        "id": "DjcDdn6_5XIH"
      }
    },
    {
      "cell_type": "code",
      "source": [
        "import numpy as np"
      ],
      "metadata": {
        "id": "9Zm-oBTa7H1Y"
      },
      "execution_count": 2,
      "outputs": []
    },
    {
      "cell_type": "code",
      "source": [
        "def f(x):\n",
        "  return 180*np.sqrt(4-x**2)*x"
      ],
      "metadata": {
        "id": "FnE0K2KL7MLf"
      },
      "execution_count": null,
      "outputs": []
    },
    {
      "cell_type": "markdown",
      "source": [
        "#Regla de los rectángulos"
      ],
      "metadata": {
        "id": "idJSGy1xBpOY"
      }
    },
    {
      "cell_type": "code",
      "source": [
        "def reglaRectangulos (f,a,b,n):\n",
        "  h=(b-a)/n\n",
        "  xs=np.linspace(a,b,n+1)\n",
        "  ys=f(xs)\n",
        "  return h*sum(ys[:n])"
      ],
      "metadata": {
        "id": "_cf0VQ-x5kOe"
      },
      "execution_count": null,
      "outputs": []
    },
    {
      "cell_type": "code",
      "source": [
        "integralR= reglaRectangulos(f,0,2,12)\n",
        "integralR"
      ],
      "metadata": {
        "colab": {
          "base_uri": "https://localhost:8080/"
        },
        "id": "LVw-0H_78pyb",
        "outputId": "fe5106a3-206b-4a06-dff0-9be34c405a74"
      },
      "execution_count": null,
      "outputs": [
        {
          "output_type": "execute_result",
          "data": {
            "text/plain": [
              "469.1127644074264"
            ]
          },
          "metadata": {},
          "execution_count": 5
        }
      ]
    },
    {
      "cell_type": "markdown",
      "metadata": {
        "id": "gf7S0y7gBdP6"
      },
      "source": [
        "#Regla de los trapecios compuesta"
      ]
    },
    {
      "cell_type": "code",
      "source": [
        "def trap(f,a,b,n):\n",
        "  h=(b-a)/n \n",
        "  xs=np.linspace(a,b,n+1) \n",
        "  ys=f(xs)\n",
        "  return h/2*(ys[0]+2*sum(ys[1:n])+ys[n])"
      ],
      "metadata": {
        "id": "JhWEV-KNBkdD"
      },
      "execution_count": null,
      "outputs": []
    },
    {
      "cell_type": "code",
      "source": [
        "integralT=trap(f,0,2,12)\n",
        "integralT"
      ],
      "metadata": {
        "colab": {
          "base_uri": "https://localhost:8080/"
        },
        "id": "fs5i6kCYDmvW",
        "outputId": "86878738-ed12-4387-f2bd-20092f5a6368"
      },
      "execution_count": null,
      "outputs": [
        {
          "output_type": "execute_result",
          "data": {
            "text/plain": [
              "469.1127644074264"
            ]
          },
          "metadata": {},
          "execution_count": 7
        }
      ]
    },
    {
      "cell_type": "markdown",
      "metadata": {
        "id": "NCP0T6WJSOSd"
      },
      "source": [
        "#Regla de Simpson $\\frac{1}{3}$"
      ]
    },
    {
      "cell_type": "code",
      "metadata": {
        "id": "fYZIoDeWSNN_"
      },
      "source": [
        "\n",
        "def simpson13(f,a,b,n):\n",
        "  h=(b-a)/n\n",
        "  xs=np.linspace(a,b,n+1)\n",
        "  ys=f(xs)\n",
        "  return h/3*(ys[0]+4*sum(ys[1:n:2])+2*sum(ys[2:n-1:2])+ys[n])"
      ],
      "execution_count": null,
      "outputs": []
    },
    {
      "cell_type": "code",
      "source": [
        "integralS=simpson13(f,0,2,12)\n",
        "integralS"
      ],
      "metadata": {
        "colab": {
          "base_uri": "https://localhost:8080/"
        },
        "id": "XROxI_D2AUuA",
        "outputId": "42bea26c-4d40-4f87-912d-2b8a5e21232c"
      },
      "execution_count": null,
      "outputs": [
        {
          "output_type": "execute_result",
          "data": {
            "text/plain": [
              "475.95054516105836"
            ]
          },
          "metadata": {},
          "execution_count": 9
        }
      ]
    },
    {
      "cell_type": "markdown",
      "source": [
        "#Diferencia\n",
        "\n",
        "Las integrales están definidas con polinomios de distintos grados\n",
        "\n",
        "-Rectangulo grado 0\n",
        "\n",
        "-Trapecios grado 1\n",
        "\n",
        "-Simpson 1/3 grado 2"
      ],
      "metadata": {
        "id": "HqzU2CO4FZXd"
      }
    },
    {
      "cell_type": "markdown",
      "source": [
        "Estime la superficie del lago usando integrales, tome en cuenta los puntos discretos señalados"
      ],
      "metadata": {
        "id": "F-9Nbjl9SMqW"
      }
    },
    {
      "cell_type": "code",
      "source": [
        "hsup=(34-1)/16\n",
        "hsup"
      ],
      "metadata": {
        "colab": {
          "base_uri": "https://localhost:8080/"
        },
        "id": "BT0E7I1uSUfO",
        "outputId": "bd743d34-9b3f-478c-d270-4b7042c0fb72"
      },
      "execution_count": 10,
      "outputs": [
        {
          "output_type": "execute_result",
          "data": {
            "text/plain": [
              "2.0625"
            ]
          },
          "metadata": {},
          "execution_count": 10
        }
      ]
    },
    {
      "cell_type": "code",
      "source": [
        "hinf=(33.5-1)/16\n",
        "hinf"
      ],
      "metadata": {
        "colab": {
          "base_uri": "https://localhost:8080/"
        },
        "id": "GkZjTj1FBCbL",
        "outputId": "f6468965-14ca-429b-8242-f3d45073c5ec"
      },
      "execution_count": 11,
      "outputs": [
        {
          "output_type": "execute_result",
          "data": {
            "text/plain": [
              "2.03125"
            ]
          },
          "metadata": {},
          "execution_count": 11
        }
      ]
    },
    {
      "cell_type": "markdown",
      "source": [
        "𝑨𝟏/𝟑 = 𝒉\n",
        "𝟑 [𝒚𝟎 + 𝒚𝒏 + 𝟐 ∑ 𝒐𝒓𝒅𝒆𝒏𝒂𝒅𝒂𝒔 𝒑𝒂𝒓𝒆𝒔 + 𝟒 ∑ 𝒐𝒓𝒅𝒆𝒏𝒂𝒅𝒂𝒔 𝒊𝒎𝒑𝒂𝒓𝒆𝒔]"
      ],
      "metadata": {
        "id": "T_d7RS8ES2SC"
      }
    },
    {
      "cell_type": "markdown",
      "source": [
        "Por lo tanto el área total es de 501.877x10^4 m^2"
      ],
      "metadata": {
        "id": "QJP-2WVtVbJc"
      }
    },
    {
      "cell_type": "code",
      "source": [
        "Asup=hsup/3*(0+3+2*(15.4+16+20+21+21.4+22.4+23+22)+4*(15.6+18+20.8+20.6+22+23+22.8+20))\n",
        "Asup"
      ],
      "metadata": {
        "colab": {
          "base_uri": "https://localhost:8080/"
        },
        "id": "iT79Xbzs-UdZ",
        "outputId": "c4831f3c-3393-42cc-bdc3-e4375d2ef1ed"
      },
      "execution_count": 12,
      "outputs": [
        {
          "output_type": "execute_result",
          "data": {
            "text/plain": [
              "671.4125000000001"
            ]
          },
          "metadata": {},
          "execution_count": 12
        }
      ]
    },
    {
      "cell_type": "code",
      "source": [
        "Ainf=hinf/3*(8+10+2*(5.5+5.8+1.4+1+1.8+2.3+6.4+9)+4*(5.7+3+1+1.5+2+5+8+10))\n",
        "Ainf"
      ],
      "metadata": {
        "colab": {
          "base_uri": "https://localhost:8080/"
        },
        "id": "kOmlWGsE_Z4b",
        "outputId": "ce885dab-8a44-41da-fe4e-bcbee3a83e94"
      },
      "execution_count": 14,
      "outputs": [
        {
          "output_type": "execute_result",
          "data": {
            "text/plain": [
              "155.18750000000003"
            ]
          },
          "metadata": {},
          "execution_count": 14
        }
      ]
    },
    {
      "cell_type": "markdown",
      "source": [
        "Establecemos una resta entre el área superior y el área inferior; Por lo tanto el área de la superficie es aproximadamente A≈516.23E04 m^2"
      ],
      "metadata": {
        "id": "MezPG4A7FFRP"
      }
    }
  ]
}