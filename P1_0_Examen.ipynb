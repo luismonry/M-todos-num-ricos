{
  "nbformat": 4,
  "nbformat_minor": 0,
  "metadata": {
    "colab": {
      "provenance": [],
      "collapsed_sections": []
    },
    "kernelspec": {
      "name": "python3",
      "display_name": "Python 3"
    }
  },
  "cells": [
    {
      "cell_type": "markdown",
      "source": [
        "Universidad Nacional Autónoma de México."
      ],
      "metadata": {
        "id": "JWY8xREsBrKo"
      }
    },
    {
      "cell_type": "markdown",
      "source": [
        "Facultad de Quimica. "
      ],
      "metadata": {
        "id": "vmvMxjq2CvJs"
      }
    },
    {
      "cell_type": "markdown",
      "source": [
        "Métodos Numéricos. Examen Interpolación"
      ],
      "metadata": {
        "id": "P88AlB_sDBHz"
      }
    },
    {
      "cell_type": "markdown",
      "source": [
        "Alumno: Reyes Monroy Luis Daniel. Número de cuenta: 318259404. Gpo:02"
      ],
      "metadata": {
        "id": "OLsZcYRHDRQN"
      }
    },
    {
      "cell_type": "markdown",
      "source": [
        "**Problema 1**\n",
        "La presión de vapor de agua (P) y el volumen específico (v) de vapor saturado de agua están tabulados\n",
        "como se muestra\n",
        "\n",
        "$$\n",
        "\\begin{array}{l|c|c|c|c|c|c}\n",
        "\\text{Temperatura}&0.001&3.3&6.0& 9.0& 12.0&15& 18.0\\\\\n",
        "\\hline\n",
        "\\text{Presión de vapor de agua}&0.61113& 0.7577& 0.9349& 1.1477&1.4022& 1.7051&2.0640\\\\\n",
        "\\hline\n",
        "\\text{Volumen}&206.136& 168.132& 137.734& 113.386& 93.784& 77.626&56.038\n",
        "\\end{array}\n",
        "$$\n",
        "\n",
        "Determine la presión de vapor de agua y el volumen específico a X°C. donde X es el último dígito de\n",
        "su número de cuenta: *318259404* Por lo tanto P y V a 4°C"
      ],
      "metadata": {
        "id": "j6qgdDID__1B"
      }
    },
    {
      "cell_type": "code",
      "metadata": {
        "id": "1BPE7OjL2Vrv"
      },
      "source": [
        "import numpy as np\n",
        "from scipy import interpolate\n",
        "from scipy.interpolate import lagrange\n",
        "import matplotlib.pyplot as plt"
      ],
      "execution_count": 23,
      "outputs": []
    },
    {
      "cell_type": "code",
      "metadata": {
        "id": "umT0vvUE2u6g"
      },
      "source": [
        "x=np.array([0.001,3.0,6.0,9.0,12.0,15.0,18.0])\n",
        "y=np.array([0.6113,0.7577,0.9346,1.1477,1.4022,1.7051,2.0640])"
      ],
      "execution_count": 3,
      "outputs": []
    },
    {
      "cell_type": "code",
      "source": [
        "xs=np.linspace(np.min(x),np.max(x),100)\n",
        "\n",
        "inter=interpolate.lagrange(x,y)\n",
        "ys=inter(xs)"
      ],
      "metadata": {
        "id": "vkbZotTInEYr"
      },
      "execution_count": 24,
      "outputs": []
    },
    {
      "cell_type": "code",
      "source": [
        "def Lagrange(x,y,xi):\n",
        "  n=np.size(x)\n",
        "  p=0\n",
        "  for i in range(n):\n",
        "    z=y[i]\n",
        "    for j in range(n):\n",
        "      if i!=j:\n",
        "        z=z*(xi-x[j])/(x[i]-x[j])\n",
        "    p=p+z\n",
        "  return p"
      ],
      "metadata": {
        "id": "xyiPt7nanLSI"
      },
      "execution_count": 21,
      "outputs": []
    },
    {
      "cell_type": "code",
      "source": [
        "p=lagrange(x,y)\n",
        "xi=4\n",
        "yi=p(xi)\n",
        "print(yi)"
      ],
      "metadata": {
        "colab": {
          "base_uri": "https://localhost:8080/"
        },
        "id": "PoSa3QQbwxHG",
        "outputId": "1818aeaf-a2a7-46f7-f6e3-70ac90e7c6d6"
      },
      "execution_count": 4,
      "outputs": [
        {
          "output_type": "stream",
          "name": "stdout",
          "text": [
            "0.8129383471533714\n"
          ]
        }
      ]
    },
    {
      "cell_type": "code",
      "source": [
        "from numpy.polynomial.polynomial import Polynomial\n",
        "Polynomial(p).coef"
      ],
      "metadata": {
        "colab": {
          "base_uri": "https://localhost:8080/"
        },
        "id": "ntwvd2LIw3G9",
        "outputId": "ab9b3bea-238b-4c58-c6cb-3869a84b8dd5"
      },
      "execution_count": 5,
      "outputs": [
        {
          "output_type": "execute_result",
          "data": {
            "text/plain": [
              "array([-6.75350004e-09,  3.84318239e-07, -7.85898478e-06,  1.06862714e-04,\n",
              "        1.08661759e-03,  4.47760124e-02,  6.11255223e-01])"
            ]
          },
          "metadata": {},
          "execution_count": 5
        }
      ]
    },
    {
      "cell_type": "markdown",
      "source": [
        "$$\n",
        "f(x)=-6.75350004x^6+3.84318239x^5-7.85898478x^4+1.06862714x^3+1.08661759x^2+ 4.47760124x+6.11255223\n",
        "$$"
      ],
      "metadata": {
        "id": "f9dv1amsxWVp"
      }
    },
    {
      "cell_type": "code",
      "source": [
        "f=lambda x:-6.75350004e-09*x**6+3.84318239e-07*x**5-7.85898478e-06*x**4+1.06862714e-04*x**3+1.08661759e-03*x**2+4.47760124e-02*x+6.11255223e-01\n",
        "f(4)"
      ],
      "metadata": {
        "colab": {
          "base_uri": "https://localhost:8080/"
        },
        "id": "ANA3T6Pew7IU",
        "outputId": "2c61d7c5-ad38-4cdb-cfca-dd07bfdd60b2"
      },
      "execution_count": 6,
      "outputs": [
        {
          "output_type": "execute_result",
          "data": {
            "text/plain": [
              "0.8129383471728922"
            ]
          },
          "metadata": {},
          "execution_count": 6
        }
      ]
    },
    {
      "cell_type": "code",
      "metadata": {
        "id": "jLEhy8nP30zX",
        "colab": {
          "base_uri": "https://localhost:8080/"
        },
        "outputId": "7f7fd802-4597-4d29-b6d8-2b1ee16b6454"
      },
      "source": [
        "Temperatura=4\n",
        "Presión=inter(Temperatura)\n",
        "print(Presión)\n",
        "Presión=Lagrange(x,y,Temperatura)\n",
        "print(Presión)"
      ],
      "execution_count": 28,
      "outputs": [
        {
          "output_type": "stream",
          "name": "stdout",
          "text": [
            "0.8129383471533714\n",
            "0.8129383471533709\n"
          ]
        }
      ]
    },
    {
      "cell_type": "code",
      "source": [
        "xs=np.linspace(x.min(),x.max())\n",
        "ys=p(xs)\n",
        "\n",
        "plt.plot(x,y,'o',xi,yi,'sr',xs,ys,'--')\n",
        "plt.legend(['Datos','Interpolacion','Lagrange'])\n",
        "plt.text(Temperatura,Presión,'  Presión de vapor='+str(yi))\n",
        "plt.xlabel('Temperatura')\n",
        "plt.ylabel('Presión de vapor de agua')\n",
        "plt.title('Presión de vapor de Agua a 4°C')\n",
        "plt.grid()\n",
        "plt.show()"
      ],
      "metadata": {
        "colab": {
          "base_uri": "https://localhost:8080/",
          "height": 295
        },
        "id": "pGQE0FML0upa",
        "outputId": "319f940b-e699-4cf1-d3b9-b08ad8b1d7e1"
      },
      "execution_count": 29,
      "outputs": [
        {
          "output_type": "display_data",
          "data": {
            "text/plain": [
              "<Figure size 432x288 with 1 Axes>"
            ],
            "image/png": "[encoded data removed]"
          },
          "metadata": {
            "needs_background": "light"
          }
        }
      ]
    },
    {
      "cell_type": "markdown",
      "source": [
        "Para el volumen"
      ],
      "metadata": {
        "id": "wD38PGMnACc2"
      }
    },
    {
      "cell_type": "code",
      "source": [
        "import numpy as np\n",
        "from scipy.interpolate import lagrange\n",
        "import matplotlib.pyplot as plt"
      ],
      "metadata": {
        "id": "yOU3EXvFAJxD"
      },
      "execution_count": 32,
      "outputs": []
    },
    {
      "cell_type": "code",
      "source": [
        "x=np.array([0.001,3.0,6.0,9.0,12.0,15.0,18.0])\n",
        "y=np.array([206.136, 168.132, 137.734, 113.386, 93.784, 77.926, 65.038])"
      ],
      "metadata": {
        "id": "ufNQgamoAOts"
      },
      "execution_count": 33,
      "outputs": []
    },
    {
      "cell_type": "code",
      "source": [
        "p=lagrange(x,y)\n",
        "xi=4\n",
        "yi=p(xi)\n",
        "print(yi)"
      ],
      "metadata": {
        "colab": {
          "base_uri": "https://localhost:8080/"
        },
        "id": "wbzayIfGAS9c",
        "outputId": "4ed4efd3-1fef-4460-856c-f9e05f69d2fe"
      },
      "execution_count": 34,
      "outputs": [
        {
          "output_type": "stream",
          "name": "stdout",
          "text": [
            "157.23453496803506\n"
          ]
        }
      ]
    },
    {
      "cell_type": "code",
      "source": [
        "from numpy.polynomial.polynomial import Polynomial\n",
        "Polynomial(p).coef"
      ],
      "metadata": {
        "colab": {
          "base_uri": "https://localhost:8080/"
        },
        "id": "u_eoY9CuAYIG",
        "outputId": "4a624b08-38ce-44b8-9c50-68dfec47860d"
      },
      "execution_count": 35,
      "outputs": [
        {
          "output_type": "execute_result",
          "data": {
            "text/plain": [
              "array([-2.09323359e-07,  1.06496487e-05, -6.01369654e-05, -1.04972125e-02,\n",
              "        5.17816620e-01, -1.41308731e+01,  2.06150130e+02])"
            ]
          },
          "metadata": {},
          "execution_count": 35
        }
      ]
    },
    {
      "cell_type": "markdown",
      "source": [
        "$$\n",
        "f(x)=-2.09323359x^6+1.06496487x^5-6.01369654x^4+-1.04972125x^3+5.17816620x^2-1.41308731x+2.06150130\n",
        "$$"
      ],
      "metadata": {
        "id": "gyEbtDRHEBC9"
      }
    },
    {
      "cell_type": "code",
      "source": [
        "f=lambda x:-2.09323359e-07*x**6+1.06496487e-05*x**5-6.01369654e-05*x**4-1.04972125e-02*x**3+5.17816620e-01*x**2-1.41308731e+01*x+2.06150130e+02\n",
        "f(4)"
      ],
      "metadata": {
        "colab": {
          "base_uri": "https://localhost:8080/"
        },
        "id": "xu9OrGP5Abl6",
        "outputId": "868344d2-dd00-4b29-cac2-932593281833"
      },
      "execution_count": 36,
      "outputs": [
        {
          "output_type": "execute_result",
          "data": {
            "text/plain": [
              "157.2345347086479"
            ]
          },
          "metadata": {},
          "execution_count": 36
        }
      ]
    },
    {
      "cell_type": "code",
      "source": [
        "Temperatura=4\n",
        "Volumen=inter(Temperatura)\n",
        "print(Volumen)\n",
        "Volumen=Lagrange(x,y,Temperatura)\n",
        "print(Volumen)"
      ],
      "metadata": {
        "colab": {
          "base_uri": "https://localhost:8080/"
        },
        "id": "m5E1ZaK_Aew8",
        "outputId": "220ef301-136c-40e6-980c-243ec22b0da9"
      },
      "execution_count": 37,
      "outputs": [
        {
          "output_type": "stream",
          "name": "stdout",
          "text": [
            "0.8129383471533714\n",
            "157.23453496803552\n"
          ]
        }
      ]
    },
    {
      "cell_type": "code",
      "source": [
        "xs=np.linspace(x.min(),x.max())\n",
        "ys=p(xs)\n",
        "\n",
        "plt.plot(x,y,'o',xi,yi,'sr',xs,ys,'--')\n",
        "plt.legend(['Datos','Interpolacion','Lagrange'])\n",
        "plt.text(Temperatura,Volumen,'  Volumen específico='+str(yi))\n",
        "plt.xlabel('Temperatura')\n",
        "plt.ylabel('Volumen específico')\n",
        "plt.title('Volumen específico de vapor saturado a 4°C')\n",
        "plt.grid()\n",
        "plt.show()"
      ],
      "metadata": {
        "colab": {
          "base_uri": "https://localhost:8080/",
          "height": 295
        },
        "id": "VEqvTJxUAh78",
        "outputId": "c12f37d5-faf3-4ac3-df87-bb80b081a89f"
      },
      "execution_count": 39,
      "outputs": [
        {
          "output_type": "display_data",
          "data": {
            "text/plain": [
              "<Figure size 432x288 with 1 Axes>"
            ],
            "image/png": "[encoded data removed]"
          },
          "metadata": {
            "needs_background": "light"
          }
        }
      ]
    }
  ]
}